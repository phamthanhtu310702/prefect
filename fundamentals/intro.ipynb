{
 "cells": [
  {
   "cell_type": "markdown",
   "metadata": {},
   "source": [
    "## Flows, tasks, and subflows\n",
    "A flow is the basis of all Prefect workflows. A flow is a Python function decorated with a @flow decorator.\n",
    "\n",
    "A task is a Python function decorated with a @task decorator. Tasks represent distinct pieces of work executed within a flow."
   ]
  },
  {
   "cell_type": "code",
   "execution_count": 1,
   "metadata": {},
   "outputs": [
    {
     "name": "stderr",
     "output_type": "stream",
     "text": [
      "22:40:35.669 | INFO    | prefect.engine - Created flow run 'zealous-jaybird' for flow 'my-favorite-function'\n",
      "22:40:35.800 | INFO    | Flow run 'zealous-jaybird' - Finished in state Completed()\n"
     ]
    },
    {
     "name": "stdout",
     "output_type": "stream",
     "text": [
      "What is your favorite number?\n",
      "42\n"
     ]
    }
   ],
   "source": [
    "from prefect import flow\n",
    "\n",
    "@flow\n",
    "def my_favorite_function():\n",
    "    print(\"What is your favorite number?\")\n",
    "    return 42\n",
    "\n",
    "print(my_favorite_function())\n"
   ]
  },
  {
   "cell_type": "code",
   "execution_count": 2,
   "metadata": {},
   "outputs": [],
   "source": [
    "import requests\n",
    "from prefect import flow, task"
   ]
  },
  {
   "cell_type": "markdown",
   "metadata": {},
   "source": [
    "we can create tasks that take input from and pass input to other tasks."
   ]
  },
  {
   "cell_type": "code",
   "execution_count": null,
   "metadata": {},
   "outputs": [],
   "source": [
    "@task \n",
    "def sum(x,y):\n",
    "    return x+y\n",
    "def multi(x,y):\n",
    "    return x*y\n",
    "\n",
    "\n",
    "@flow\n",
    "def compute_flow(x,y):\n",
    "    get_sum = sum(x,y)\n",
    "    get_multi = multi(x,y)\n",
    "    x = [get_sum,get_multi]\n",
    "    return x\n",
    "\n",
    "print(compute_flow(1,2))"
   ]
  },
  {
   "cell_type": "markdown",
   "metadata": {},
   "source": [
    "## Run a flow within a flow"
   ]
  },
  {
   "cell_type": "code",
   "execution_count": 5,
   "metadata": {},
   "outputs": [
    {
     "name": "stderr",
     "output_type": "stream",
     "text": [
      "22:50:10.292 | INFO    | prefect.engine - Created flow run 'sly-buffalo' for flow 'main-flow'\n",
      "22:50:10.400 | INFO    | Flow run 'sly-buffalo' - Created subflow run 'free-okapi' for flow 'common-flow'\n",
      "22:50:10.438 | INFO    | Flow run 'free-okapi' - Finished in state Completed()\n",
      "22:50:10.450 | INFO    | Flow run 'sly-buffalo' - Finished in state Completed('All states completed.')\n"
     ]
    },
    {
     "name": "stdout",
     "output_type": "stream",
     "text": [
      "I am a subgraph that shows up in lots of places!\n"
     ]
    },
    {
     "data": {
      "text/plain": [
       "[Completed(message=None, type=COMPLETED, result=42)]"
      ]
     },
     "execution_count": 5,
     "metadata": {},
     "output_type": "execute_result"
    }
   ],
   "source": [
    "from prefect import flow\n",
    "\n",
    "@flow\n",
    "def common_flow(config: dict):\n",
    "    print(\"I am a subgraph that shows up in lots of places!\")\n",
    "    intermediate_result = 42\n",
    "    return intermediate_result\n",
    "\n",
    "@flow\n",
    "def main_flow():\n",
    "    # do some things\n",
    "    # then call another flow function\n",
    "    data = common_flow(config={})\n",
    "    # do more things\n",
    "\n",
    "main_flow()\n"
   ]
  },
  {
   "cell_type": "markdown",
   "metadata": {},
   "source": [
    "## Run flow with parameters"
   ]
  },
  {
   "cell_type": "code",
   "execution_count": 1,
   "metadata": {},
   "outputs": [
    {
     "name": "stderr",
     "output_type": "stream",
     "text": [
      "21:36:15.469 | INFO    | prefect.engine - Created flow run 'gigantic-jellyfish' for flow 'call-api'\n",
      "21:36:15.950 | INFO    | Flow run 'gigantic-jellyfish' - Finished in state Completed()\n"
     ]
    },
    {
     "name": "stdout",
     "output_type": "stream",
     "text": [
      "{'date': '10-22-2022', 'milliseconds_since_epoch': 1666449375872, 'time': '02:36:15 PM'}\n"
     ]
    }
   ],
   "source": [
    "import quopri\n",
    "import requests \n",
    "from prefect import flow    \n",
    "\n",
    "@flow \n",
    "def call_api(url):  \n",
    "    return requests.get(url).json()\n",
    "\n",
    "api_result = call_api(\"http://time.jsontest.com/\")\n",
    "print(api_result)"
   ]
  },
  {
   "cell_type": "markdown",
   "metadata": {},
   "source": [
    "## Parameter type conversion    \n",
    "\n"
   ]
  }
 ],
 "metadata": {
  "kernelspec": {
   "display_name": "Python 3.9.13 ('torch')",
   "language": "python",
   "name": "python3"
  },
  "language_info": {
   "codemirror_mode": {
    "name": "ipython",
    "version": 3
   },
   "file_extension": ".py",
   "mimetype": "text/x-python",
   "name": "python",
   "nbconvert_exporter": "python",
   "pygments_lexer": "ipython3",
   "version": "3.9.13"
  },
  "orig_nbformat": 4,
  "vscode": {
   "interpreter": {
    "hash": "5ffa61d47449aaf04ff74c970d58e2f8126d8497d1122c0c3ba55342874a97e9"
   }
  }
 },
 "nbformat": 4,
 "nbformat_minor": 2
}
