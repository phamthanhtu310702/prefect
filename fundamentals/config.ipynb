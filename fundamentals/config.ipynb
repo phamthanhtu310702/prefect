{
 "cells": [
  {
   "cell_type": "markdown",
   "metadata": {},
   "source": [
    "# Flow and task configuration"
   ]
  },
  {
   "cell_type": "markdown",
   "metadata": {},
   "source": [
    "## Basic flow config\n",
    "Basic flow configuration includes the ability to provide a name, description, and version and other options for the flow via flow arguments.\n",
    "\n",
    "A flow description enables you to provide documentation right alongside your flow object.\n",
    "\n",
    "A flow version enables you to associate a given run of your workflow with the version of code or configuration that was used."
   ]
  },
  {
   "cell_type": "code",
   "execution_count": 1,
   "metadata": {},
   "outputs": [],
   "source": [
    "from prefect import flow, task\n"
   ]
  },
  {
   "cell_type": "code",
   "execution_count": null,
   "metadata": {},
   "outputs": [],
   "source": [
    "\n",
    "@flow(name=\"My Example Flow\", \n",
    "      description=\"An example flow for a tutorial.\",\n",
    "      version=\"tutorial_02\")\n",
    "def my_flow():\n",
    "    # run tasks and subflows\n"
   ]
  },
  {
   "cell_type": "markdown",
   "metadata": {},
   "source": [
    "## Basic task configuration\n",
    "\n",
    "you can independently assign tasks their own name and description."
   ]
  },
  {
   "cell_type": "code",
   "execution_count": 2,
   "metadata": {},
   "outputs": [
    {
     "name": "stderr",
     "output_type": "stream",
     "text": [
      "21:55:04.283 | INFO    | prefect.engine - Created flow run 'attractive-stoat' for flow 'My Example Flow'\n",
      "21:55:04.399 | INFO    | Flow run 'attractive-stoat' - Created task run 'My example task-1fa5169b-0' for task 'My example task'\n",
      "21:55:04.400 | INFO    | Flow run 'attractive-stoat' - Executing 'My example task-1fa5169b-0' immediately...\n",
      "21:55:04.435 | INFO    | Task run 'My example task-1fa5169b-0' - Finished in state Completed()\n",
      "21:55:04.449 | INFO    | Flow run 'attractive-stoat' - Finished in state Completed('All states completed.')\n"
     ]
    },
    {
     "name": "stdout",
     "output_type": "stream",
     "text": [
      "Hello Thanh Tu\n"
     ]
    },
    {
     "data": {
      "text/plain": [
       "[Completed(message=None, type=COMPLETED, result=LiteralResult(type='literal', value=None))]"
      ]
     },
     "execution_count": 2,
     "metadata": {},
     "output_type": "execute_result"
    }
   ],
   "source": [
    "@task(name=\"My example task\",\n",
    "description= \"An example task for a tutorial\")\n",
    "def print_hello():\n",
    "    print(\"Hello Thanh Tu\")\n",
    "\n",
    "@flow(name=\"My Example Flow\", \n",
    "      description=\"An example flow for a tutorial.\",\n",
    "      version=\"tutorial_02\")\n",
    "def make_flow():\n",
    "    print_hello()\n",
    "\n",
    "make_flow()"
   ]
  },
  {
   "cell_type": "markdown",
   "metadata": {},
   "source": [
    "## Flow and task retries\n",
    "This enables flows and tasks to automatically retry on failure"
   ]
  },
  {
   "cell_type": "code",
   "execution_count": null,
   "metadata": {},
   "outputs": [],
   "source": [
    "@task(retries=2, retry_delay_seconds = 5)\n",
    "def failure():\n",
    "    print('running')\n",
    "    raise ValueError(\"bad code\")\n",
    "\n",
    "@flow \n",
    "def test_retries():\n",
    "    return failure()\n",
    "\n"
   ]
  },
  {
   "cell_type": "code",
   "execution_count": null,
   "metadata": {},
   "outputs": [],
   "source": [
    "state = test_retries()"
   ]
  },
  {
   "cell_type": "markdown",
   "metadata": {},
   "source": [
    "## Task caching\n",
    "Caching refers to the ability of a task run to reflect a finished state without actually running the code that defines the task.\n",
    "\n",
    "This allows you to efficiently reuse results of tasks that may be particularly \"expensive\" to run with every flow run. \n",
    "\n",
    "Moreover, Prefect makes it easy to share these states across flows and flow runs using the concept of a \"cache key function\".\n",
    "\n",
    "You can define a task that is cached based on its inputs by using the Prefect task_input_hash. This is a task cache key implementation that hashes all inputs to the task using a JSON or cloudpickle serializer. If the task inputs do not change, the cached results are used rather than running the task until the cache expires\n",
    "\n",
    "until the cache_expiration time ends, as long as the input to hello_task() remains the same when it is called, the cached return value is returned. In this situation the task is not rerun. However, if the input argument value changes, hello_task() runs using the new input\n",
    "\n",
    "One way to use cache_key_fn is to cache based on inputs by specifying task_input_hash. If the input parameters to the task are the same, Prefect returns the cached results rather than running the task again."
   ]
  },
  {
   "cell_type": "markdown",
   "metadata": {},
   "source": [
    "### Task input hash"
   ]
  },
  {
   "cell_type": "code",
   "execution_count": null,
   "metadata": {},
   "outputs": [],
   "source": [
    "from datetime import timedelta\n",
    "from prefect import flow, task\n",
    "from prefect.tasks import task_input_hash\n",
    "\n",
    "@task(cache_key_fn=task_input_hash, cache_expiration=timedelta(days=1))\n",
    "def hello_task(name_input):\n",
    "    # Doing some work\n",
    "    print(\"Saying hello\")\n",
    "    return \"hello \" + name_input\n",
    "\n",
    "@flow\n",
    "def hello_flow(name_input):\n",
    "    hello_task(name_input)\n"
   ]
  },
  {
   "cell_type": "markdown",
   "metadata": {},
   "source": [
    "### Cache key function"
   ]
  },
  {
   "cell_type": "code",
   "execution_count": null,
   "metadata": {},
   "outputs": [],
   "source": [
    "from prefect import flow, task\n",
    "from datetime import timedelta\n",
    "import time\n",
    "\n",
    "def cache_key_from_sum(context, parameters):\n",
    "    print(parameters)\n",
    "    return sum(parameters[\"nums\"])\n",
    "\n",
    "@task(cache_key_fn=cache_key_from_sum, cache_expiration=timedelta(minutes=1))\n",
    "def cached_task(nums):\n",
    "    print('running an expensive operation')  \n",
    "    time.sleep(3)\n",
    "    return sum(nums)\n",
    "\n",
    "@flow\n",
    "def test_caching(nums):\n",
    "    cached_task(nums)\n"
   ]
  },
  {
   "cell_type": "markdown",
   "metadata": {},
   "source": [
    "## Task results"
   ]
  },
  {
   "cell_type": "markdown",
   "metadata": {},
   "source": [
    "## Map"
   ]
  },
  {
   "cell_type": "markdown",
   "metadata": {},
   "source": []
  }
 ],
 "metadata": {
  "kernelspec": {
   "display_name": "Python 3.9.13 ('torch')",
   "language": "python",
   "name": "python3"
  },
  "language_info": {
   "codemirror_mode": {
    "name": "ipython",
    "version": 3
   },
   "file_extension": ".py",
   "mimetype": "text/x-python",
   "name": "python",
   "nbconvert_exporter": "python",
   "pygments_lexer": "ipython3",
   "version": "3.9.13"
  },
  "orig_nbformat": 4,
  "vscode": {
   "interpreter": {
    "hash": "5ffa61d47449aaf04ff74c970d58e2f8126d8497d1122c0c3ba55342874a97e9"
   }
  }
 },
 "nbformat": 4,
 "nbformat_minor": 2
}
