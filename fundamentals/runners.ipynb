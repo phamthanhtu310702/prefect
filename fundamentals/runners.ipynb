{
 "cells": [
  {
   "cell_type": "markdown",
   "metadata": {},
   "source": [
    "# Flow and task execution"
   ]
  },
  {
   "cell_type": "code",
   "execution_count": 4,
   "metadata": {},
   "outputs": [],
   "source": [
    "import time\n",
    "from prefect import task, flow"
   ]
  },
  {
   "cell_type": "markdown",
   "metadata": {},
   "source": [
    "## Task runners\n",
    "Task runners are responsible for running Prefect tasks within a flow. Each flow has a task runner associated with it. \n",
    "\n",
    "Depending on the task runner you use, the tasks within your flow can run sequentially, concurrently, or in parallel.\n",
    "\n",
    "You can even configure task runners to use distributed execution infrastructure such as a Dask cluster.\n",
    "\n",
    "To make sure that the tasks within your flow can run concurrently or in parallel, add .submit() to your task run. This method will return a PrefectFuture instead of a Python object.\n",
    "\n",
    "A PrefectFuture is an object that provides access to a computation happening in a task runner"
   ]
  },
  {
   "cell_type": "markdown",
   "metadata": {},
   "source": [
    "## Concurrent execution\n",
    "by default Prefect flows use the ConcurrentTaskRunner for non-blocking, concurrent execution of tasks."
   ]
  },
  {
   "cell_type": "code",
   "execution_count": 2,
   "metadata": {},
   "outputs": [
    {
     "name": "stderr",
     "output_type": "stream",
     "text": [
      "21:24:37.913 | INFO    | prefect.engine - Created flow run 'phenomenal-spider' for flow 'my-flow'\n",
      "21:24:38.030 | INFO    | Flow run 'phenomenal-spider' - Created task run 'print_values-0bb9a2c3-0' for task 'print_values'\n",
      "21:24:38.030 | INFO    | Flow run 'phenomenal-spider' - Submitted task run 'print_values-0bb9a2c3-0' for execution.\n",
      "21:24:38.043 | INFO    | Flow run 'phenomenal-spider' - Created task run 'print_values-0bb9a2c3-1' for task 'print_values'\n",
      "21:24:38.044 | INFO    | Flow run 'phenomenal-spider' - Submitted task run 'print_values-0bb9a2c3-1' for execution.\n"
     ]
    },
    {
     "name": "stdout",
     "output_type": "stream",
     "text": [
      "AAAAAAAABBBBBBBB\r"
     ]
    },
    {
     "name": "stderr",
     "output_type": "stream",
     "text": [
      "21:24:43.134 | INFO    | Task run 'print_values-0bb9a2c3-1' - Finished in state Completed()\n"
     ]
    },
    {
     "name": "stdout",
     "output_type": "stream",
     "text": [
      "AAAA\r"
     ]
    },
    {
     "name": "stderr",
     "output_type": "stream",
     "text": [
      "21:24:45.655 | INFO    | Task run 'print_values-0bb9a2c3-0' - Finished in state Completed()\n",
      "21:24:45.674 | INFO    | Flow run 'phenomenal-spider' - Finished in state Completed('All states completed.')\n"
     ]
    },
    {
     "name": "stdout",
     "output_type": "stream",
     "text": [
      "AAAA\r"
     ]
    }
   ],
   "source": [
    "\n",
    "\n",
    "@task\n",
    "def print_values(values):\n",
    "    for value in values:\n",
    "        time.sleep(0.5)\n",
    "        print(value, end=\"\\r\")\n",
    "\n",
    "@flow\n",
    "def my_flow():\n",
    "    print_values.submit([\"AAAA\"] * 15)\n",
    "    print_values.submit([\"BBBB\"] * 10)\n",
    "\n",
    "if __name__ == \"__main__\":\n",
    "    my_flow()\n"
   ]
  },
  {
   "cell_type": "markdown",
   "metadata": {},
   "source": [
    "## Sequential execution"
   ]
  },
  {
   "cell_type": "code",
   "execution_count": 3,
   "metadata": {},
   "outputs": [
    {
     "name": "stderr",
     "output_type": "stream",
     "text": [
      "/Users/phamthanhtu/opt/miniconda3/envs/torch/lib/python3.9/site-packages/prefect/tasks.py:198: UserWarning: A task named 'print_values' and defined at '/var/folders/v2/kxvx63cs0nj24qk2_m4cyb0r0000gn/T/ipykernel_26998/3164186700.py:3' conflicts with another task. Consider specifying a unique `name` parameter in the task definition:\n",
      "\n",
      " `@task(name='my_unique_name', ...)`\n",
      "  warnings.warn(\n",
      "/Users/phamthanhtu/opt/miniconda3/envs/torch/lib/python3.9/site-packages/prefect/flows.py:201: UserWarning: A flow named 'my-flow' and defined at '/var/folders/v2/kxvx63cs0nj24qk2_m4cyb0r0000gn/T/ipykernel_26998/3164186700.py:9' conflicts with another flow. Consider specifying a unique `name` parameter in the flow definition:\n",
      "\n",
      " `@flow(name='my_unique_name', ...)`\n",
      "  warnings.warn(\n",
      "21:27:32.812 | INFO    | prefect.engine - Created flow run 'bizarre-jackdaw' for flow 'my-flow'\n",
      "21:27:32.914 | INFO    | Flow run 'bizarre-jackdaw' - Created task run 'print_values-0bb9a2c3-0' for task 'print_values'\n",
      "21:27:32.914 | INFO    | Flow run 'bizarre-jackdaw' - Executing 'print_values-0bb9a2c3-0' immediately...\n"
     ]
    },
    {
     "name": "stdout",
     "output_type": "stream",
     "text": [
      "AAAA\r"
     ]
    },
    {
     "name": "stderr",
     "output_type": "stream",
     "text": [
      "21:27:40.522 | INFO    | Task run 'print_values-0bb9a2c3-0' - Finished in state Completed()\n",
      "21:27:40.538 | INFO    | Flow run 'bizarre-jackdaw' - Created task run 'print_values-0bb9a2c3-1' for task 'print_values'\n",
      "21:27:40.538 | INFO    | Flow run 'bizarre-jackdaw' - Executing 'print_values-0bb9a2c3-1' immediately...\n"
     ]
    },
    {
     "name": "stdout",
     "output_type": "stream",
     "text": [
      "BBBB\r"
     ]
    },
    {
     "name": "stderr",
     "output_type": "stream",
     "text": [
      "21:27:45.615 | INFO    | Task run 'print_values-0bb9a2c3-1' - Finished in state Completed()\n",
      "21:27:45.633 | INFO    | Flow run 'bizarre-jackdaw' - Finished in state Completed('All states completed.')\n"
     ]
    },
    {
     "name": "stdout",
     "output_type": "stream",
     "text": [
      "BBBB\r"
     ]
    }
   ],
   "source": [
    "from prefect.task_runners import SequentialTaskRunner\n",
    "\n",
    "@task\n",
    "def print_values(values):\n",
    "    for value in values:\n",
    "        time.sleep(0.5)\n",
    "        print(value, end=\"\\r\")\n",
    "\n",
    "@flow(task_runner=SequentialTaskRunner())\n",
    "def my_flow():\n",
    "    print_values.submit([\"AAAA\"] * 15)\n",
    "    print_values.submit([\"BBBB\"] * 10)\n",
    "\n",
    "if __name__ == \"__main__\":\n",
    "    my_flow()"
   ]
  },
  {
   "cell_type": "markdown",
   "metadata": {},
   "source": [
    "## Parallel execution"
   ]
  },
  {
   "cell_type": "code",
   "execution_count": 5,
   "metadata": {},
   "outputs": [],
   "source": [
    "from prefect_dask.task_runners import DaskTaskRunner"
   ]
  },
  {
   "cell_type": "markdown",
   "metadata": {},
   "source": [
    "You can also run tasks using parallel or distributed execution by using the Dask or Ray task runners"
   ]
  },
  {
   "cell_type": "code",
   "execution_count": 7,
   "metadata": {},
   "outputs": [
    {
     "name": "stderr",
     "output_type": "stream",
     "text": [
      "21:35:16.082 | INFO    | prefect.engine - Created flow run 'vigilant-bee' for flow 'my-flow3'\n",
      "21:35:16.083 | INFO    | prefect.task_runner.dask - Creating a new Dask cluster with `distributed.deploy.local.LocalCluster`\n",
      "2022-10-24 21:35:17,027 - distributed.worker - WARNING - Mismatched versions found\n",
      "\n",
      "+---------+---------------------------------------------+-----------+---------+\n",
      "| Package | Worker-09cf5d7a-dd50-4c70-b78f-70f26fabb1f0 | Scheduler | Workers |\n",
      "+---------+---------------------------------------------+-----------+---------+\n",
      "| tornado | 6.1                                         | 6.2       | 6.1     |\n",
      "+---------+---------------------------------------------+-----------+---------+\n",
      "2022-10-24 21:35:17,028 - distributed.worker - WARNING - Mismatched versions found\n",
      "\n",
      "+---------+---------------------------------------------+-----------+---------+\n",
      "| Package | Worker-1025ddc9-5761-4eda-8172-96db634378c7 | Scheduler | Workers |\n",
      "+---------+---------------------------------------------+-----------+---------+\n",
      "| tornado | 6.1                                         | 6.2       | 6.1     |\n",
      "+---------+---------------------------------------------+-----------+---------+\n",
      "2022-10-24 21:35:17,030 - distributed.worker - WARNING - Mismatched versions found\n",
      "\n",
      "+---------+---------------------------------------------+-----------+---------+\n",
      "| Package | Worker-93d23ca6-c511-4f29-8746-b990f5873198 | Scheduler | Workers |\n",
      "+---------+---------------------------------------------+-----------+---------+\n",
      "| tornado | 6.1                                         | 6.2       | 6.1     |\n",
      "+---------+---------------------------------------------+-----------+---------+\n",
      "2022-10-24 21:35:17,031 - distributed.worker - WARNING - Mismatched versions found\n",
      "\n",
      "+---------+---------------------------------------------+-----------+---------+\n",
      "| Package | Worker-68427865-bbe5-4440-a2e8-1593c54aa8a3 | Scheduler | Workers |\n",
      "+---------+---------------------------------------------+-----------+---------+\n",
      "| tornado | 6.1                                         | 6.2       | 6.1     |\n",
      "+---------+---------------------------------------------+-----------+---------+\n",
      "/Users/phamthanhtu/opt/miniconda3/envs/torch/lib/python3.9/site-packages/distributed/client.py:1309: VersionMismatchWarning: Mismatched versions found\n",
      "\n",
      "+---------+--------+-----------+---------+\n",
      "| Package | Client | Scheduler | Workers |\n",
      "+---------+--------+-----------+---------+\n",
      "| tornado | 6.2    | 6.2       | 6.1     |\n",
      "+---------+--------+-----------+---------+\n",
      "  warnings.warn(version_module.VersionMismatchWarning(msg[0][\"warning\"]))\n",
      "21:35:17.062 | INFO    | prefect.task_runner.dask - The Dask dashboard is available at http://127.0.0.1:8787/status\n",
      "21:35:17.163 | INFO    | Flow run 'vigilant-bee' - Created task run 'print_values3-94f9ab87-0' for task 'print_values3'\n",
      "21:35:17.166 | INFO    | Flow run 'vigilant-bee' - Submitted task run 'print_values3-94f9ab87-0' for execution.\n",
      "21:35:17.174 | INFO    | Flow run 'vigilant-bee' - Created task run 'print_values3-94f9ab87-1' for task 'print_values3'\n",
      "21:35:17.176 | INFO    | Flow run 'vigilant-bee' - Submitted task run 'print_values3-94f9ab87-1' for execution.\n"
     ]
    },
    {
     "name": "stdout",
     "output_type": "stream",
     "text": [
      "AAAA\r"
     ]
    },
    {
     "name": "stderr",
     "output_type": "stream",
     "text": [
      "21:35:26.858 | INFO    | Flow run 'vigilant-bee' - Finished in state Completed('All states completed.')\n"
     ]
    }
   ],
   "source": [
    "@task\n",
    "def print_values3(values):\n",
    "    for value in values:\n",
    "        time.sleep(0.5)\n",
    "        print(value, end=\"\\r\")\n",
    "\n",
    "@flow(task_runner=DaskTaskRunner())\n",
    "def my_flow3():\n",
    "    print_values3.submit([\"AAAA\"] * 15)\n",
    "    print_values3.submit([\"BBBB\"] * 10)\n",
    "\n",
    "if __name__ == \"__main__\":\n",
    "    my_flow3()"
   ]
  }
 ],
 "metadata": {
  "kernelspec": {
   "display_name": "Python 3.9.13 ('torch')",
   "language": "python",
   "name": "python3"
  },
  "language_info": {
   "codemirror_mode": {
    "name": "ipython",
    "version": 3
   },
   "file_extension": ".py",
   "mimetype": "text/x-python",
   "name": "python",
   "nbconvert_exporter": "python",
   "pygments_lexer": "ipython3",
   "version": "3.9.13"
  },
  "orig_nbformat": 4,
  "vscode": {
   "interpreter": {
    "hash": "5ffa61d47449aaf04ff74c970d58e2f8126d8497d1122c0c3ba55342874a97e9"
   }
  }
 },
 "nbformat": 4,
 "nbformat_minor": 2
}
